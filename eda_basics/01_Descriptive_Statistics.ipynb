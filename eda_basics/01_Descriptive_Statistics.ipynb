{
 "cells": [
  {
   "cell_type": "markdown",
   "id": "338880de",
   "metadata": {},
   "source": [
    "# 📊 EDA: Stats & Plots\n",
    "Descriptive Statistics and Visualizations for a Single Column of Data\n",
    "\n",
    "\n",
    "0. **Upload Data**\n",
    "1. **Select Column**\n",
    "2. **Basic Data Summary**\n",
    "3. **Distribution**\n",
    "4. **Skewness & Kurtosis**"
   ]
  },
  {
   "cell_type": "code",
   "execution_count": 65,
   "id": "f2e99083",
   "metadata": {},
   "outputs": [],
   "source": [
    "import pandas as pd\n",
    "import numpy as np\n",
    "\n",
    "import matplotlib.pyplot as plt\n",
    "import seaborn as sns\n",
    "from scipy import stats"
   ]
  },
  {
   "cell_type": "markdown",
   "id": "ebaaf0ba",
   "metadata": {},
   "source": [
    "## 0. Upload Data"
   ]
  },
  {
   "cell_type": "code",
   "execution_count": 66,
   "id": "7e55f269",
   "metadata": {},
   "outputs": [],
   "source": [
    "data = pd.read_csv(\"./data/titanic.csv\")"
   ]
  },
  {
   "cell_type": "markdown",
   "id": "d3660d5b",
   "metadata": {},
   "source": [
    "## 1. SELECT the Column"
   ]
  },
  {
   "cell_type": "code",
   "execution_count": 67,
   "id": "49c3f816",
   "metadata": {},
   "outputs": [
    {
     "data": {
      "text/plain": [
       "Index(['PassengerId', 'Survived', 'Pclass', 'Name', 'Sex', 'Age', 'SibSp',\n",
       "       'Parch', 'Ticket', 'Fare', 'Cabin', 'Embarked'],\n",
       "      dtype='object')"
      ]
     },
     "execution_count": 67,
     "metadata": {},
     "output_type": "execute_result"
    }
   ],
   "source": [
    "# Check the columns\n",
    "data.columns"
   ]
  },
  {
   "cell_type": "code",
   "execution_count": 68,
   "id": "95ba9b35",
   "metadata": {},
   "outputs": [],
   "source": [
    "# Enter the column number\n",
    "col = data[data.columns[5]]\n",
    "col_name = data.columns[5]"
   ]
  },
  {
   "cell_type": "markdown",
   "id": "492260d2",
   "metadata": {},
   "source": [
    "## 2. Basic Data Summary"
   ]
  },
  {
   "cell_type": "code",
   "execution_count": 69,
   "id": "7cc9e98f",
   "metadata": {},
   "outputs": [
    {
     "data": {
      "text/plain": [
       "<bound method Series.info of 0      22.0\n",
       "1      38.0\n",
       "2      26.0\n",
       "3      35.0\n",
       "4      35.0\n",
       "       ... \n",
       "886    27.0\n",
       "887    19.0\n",
       "888     NaN\n",
       "889    26.0\n",
       "890    32.0\n",
       "Name: Age, Length: 891, dtype: float64>"
      ]
     },
     "execution_count": 69,
     "metadata": {},
     "output_type": "execute_result"
    }
   ],
   "source": [
    "# Basic info\n",
    "col.info"
   ]
  },
  {
   "cell_type": "code",
   "execution_count": 70,
   "id": "550cf78d",
   "metadata": {},
   "outputs": [
    {
     "data": {
      "text/plain": [
       "177"
      ]
     },
     "execution_count": 70,
     "metadata": {},
     "output_type": "execute_result"
    }
   ],
   "source": [
    "# Count the missing values\n",
    "col.isnull().sum()"
   ]
  },
  {
   "cell_type": "code",
   "execution_count": 71,
   "id": "c1d8a4e9",
   "metadata": {},
   "outputs": [
    {
     "data": {
      "text/plain": [
       "count    714.000000\n",
       "mean      29.699118\n",
       "std       14.526497\n",
       "min        0.420000\n",
       "25%       20.125000\n",
       "50%       28.000000\n",
       "75%       38.000000\n",
       "max       80.000000\n",
       "Name: Age, dtype: float64"
      ]
     },
     "execution_count": 71,
     "metadata": {},
     "output_type": "execute_result"
    }
   ],
   "source": [
    "# Statical info\n",
    "col.describe()"
   ]
  },
  {
   "cell_type": "markdown",
   "id": "981a6f95",
   "metadata": {},
   "source": [
    "## 3. Distribution\n",
    "### 3-1. for Continuous Column"
   ]
  },
  {
   "cell_type": "code",
   "execution_count": 72,
   "id": "c2ecc003",
   "metadata": {},
   "outputs": [
    {
     "data": {
      "image/png": "[encoded data removed]",
      "text/plain": [
       "<Figure size 432x288 with 1 Axes>"
      ]
     },
     "metadata": {
      "needs_background": "light"
     },
     "output_type": "display_data"
    },
    {
     "data": {
      "image/png": "[encoded data removed]",
      "text/plain": [
       "<Figure size 432x288 with 1 Axes>"
      ]
     },
     "metadata": {
      "needs_background": "light"
     },
     "output_type": "display_data"
    }
   ],
   "source": [
    "# histogram\n",
    "sns.histplot(col, kde=True) \n",
    "# KDE (Kernel Density Estimation): a smoothed version of the histogram\n",
    "plt.title(f'{col_name} Distribution')\n",
    "plt.show()\n",
    "\n",
    "#boxplot\n",
    "sns.boxplot(x=col)\n",
    "plt.title(f'{col_name} Boxplot')\n",
    "plt.show()"
   ]
  },
  {
   "cell_type": "markdown",
   "id": "e61b289c",
   "metadata": {},
   "source": [
    "### 3-2. for Categorical Column"
   ]
  },
  {
   "cell_type": "code",
   "execution_count": 73,
   "id": "579d3397",
   "metadata": {},
   "outputs": [
    {
     "data": {
      "text/plain": [
       "Age\n",
       "24.00    30\n",
       "22.00    27\n",
       "18.00    26\n",
       "19.00    25\n",
       "28.00    25\n",
       "         ..\n",
       "36.50     1\n",
       "55.50     1\n",
       "0.92      1\n",
       "23.50     1\n",
       "74.00     1\n",
       "Name: count, Length: 88, dtype: int64"
      ]
     },
     "execution_count": 73,
     "metadata": {},
     "output_type": "execute_result"
    }
   ],
   "source": [
    "# Count the unique category values\n",
    "col_counts= col.value_counts()\n",
    "col_counts"
   ]
  },
  {
   "cell_type": "code",
   "execution_count": 74,
   "id": "410f093d",
   "metadata": {},
   "outputs": [
    {
     "data": {
      "image/png": "[encoded data removed]",
      "text/plain": [
       "<Figure size 432x288 with 1 Axes>"
      ]
     },
     "metadata": {
      "needs_background": "light"
     },
     "output_type": "display_data"
    }
   ],
   "source": [
    "#Bar plot\n",
    "sns.barplot(x=col_counts.index, y=col_counts.values)\n",
    "plt.title(f'{col_name} Distribution')\n",
    "plt.xlabel(f'{col_name}')\n",
    "plt.ylabel('Count')\n",
    "plt.show()"
   ]
  },
  {
   "cell_type": "code",
   "execution_count": 75,
   "id": "b102e705",
   "metadata": {},
   "outputs": [
    {
     "data": {
      "text/plain": [
       "Age\n",
       "24.00    0.042017\n",
       "22.00    0.037815\n",
       "18.00    0.036415\n",
       "19.00    0.035014\n",
       "28.00    0.035014\n",
       "           ...   \n",
       "36.50    0.001401\n",
       "55.50    0.001401\n",
       "0.92     0.001401\n",
       "23.50    0.001401\n",
       "74.00    0.001401\n",
       "Name: proportion, Length: 88, dtype: float64"
      ]
     },
     "execution_count": 75,
     "metadata": {},
     "output_type": "execute_result"
    }
   ],
   "source": [
    "col_ratio = col.value_counts(normalize=True)\n",
    "col_ratio"
   ]
  },
  {
   "cell_type": "code",
   "execution_count": 76,
   "id": "557abc70",
   "metadata": {},
   "outputs": [
    {
     "data": {
      "image/png": "[encoded data removed]",
      "text/plain": [
       "<Figure size 432x288 with 1 Axes>"
      ]
     },
     "metadata": {
      "needs_background": "light"
     },
     "output_type": "display_data"
    }
   ],
   "source": [
    "#Bar plot\n",
    "sns.barplot(x=col_ratio.index, y=col_ratio.values)\n",
    "plt.title(f'{col_name} Proportion')\n",
    "plt.xlabel(f'{col_name}')\n",
    "plt.ylabel('Proportion')\n",
    "plt.show()"
   ]
  },
  {
   "cell_type": "markdown",
   "id": "10e9fe42",
   "metadata": {},
   "source": [
    "## 4. Skewness & Kurtosis\n",
    "### Only for Continuous Column"
   ]
  },
  {
   "cell_type": "code",
   "execution_count": 77,
   "id": "a6ce7706",
   "metadata": {},
   "outputs": [
    {
     "name": "stdout",
     "output_type": "stream",
     "text": [
      "Age - Skewness: 0.3882898514698657, Kurtosis: 0.16863657224286044\n"
     ]
    }
   ],
   "source": [
    "# Skewness: asymmetry of the distribution\n",
    "# Kurtosis: heaviness of the tails and sharpness of the peak\n",
    "\n",
    "col_clean = col.dropna()\n",
    "\n",
    "print(f'{col_name} - Skewness: {stats.skew(col_clean)}, Kurtosis: {stats.kurtosis(col_clean)}')"
   ]
  },
  {
   "cell_type": "code",
   "execution_count": null,
   "id": "e96bd73e",
   "metadata": {},
   "outputs": [],
   "source": []
  }
 ],
 "metadata": {
  "kernelspec": {
   "display_name": "Python 3",
   "language": "python",
   "name": "python3"
  },
  "language_info": {
   "codemirror_mode": {
    "name": "ipython",
    "version": 3
   },
   "file_extension": ".py",
   "mimetype": "text/x-python",
   "name": "python",
   "nbconvert_exporter": "python",
   "pygments_lexer": "ipython3",
   "version": "3.8.8"
  }
 },
 "nbformat": 4,
 "nbformat_minor": 5
}
